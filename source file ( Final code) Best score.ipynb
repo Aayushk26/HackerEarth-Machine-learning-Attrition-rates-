{
 "cells": [
  {
   "cell_type": "code",
   "execution_count": 2,
   "metadata": {},
   "outputs": [],
   "source": [
    "import numpy as np\n",
    "import pandas as pd\n",
    "import matplotlib.pyplot as plt\n",
    "train=pd.read_csv('C:\\\\Users\\\\Aayush Kandpal\\\\Downloads\\\\3f488f10aa3d11ea\\\\Dataset\\\\Train.csv')\n",
    "test=pd.read_csv('C:\\\\Users\\\\Aayush Kandpal\\\\Downloads\\\\3f488f10aa3d11ea\\\\Dataset\\\\Test.csv')\n",
    "import seaborn as sns\n"
   ]
  },
  {
   "cell_type": "code",
   "execution_count": 2,
   "metadata": {},
   "outputs": [
    {
     "data": {
      "text/plain": [
       "Index(['Employee_ID', 'Gender', 'Age', 'Education_Level',\n",
       "       'Relationship_Status', 'Hometown', 'Unit', 'Decision_skill_possess',\n",
       "       'Time_of_service', 'Time_since_promotion', 'growth_rate', 'Travel_Rate',\n",
       "       'Post_Level', 'Pay_Scale', 'Compensation_and_Benefits',\n",
       "       'Work_Life_balance', 'VAR1', 'VAR2', 'VAR3', 'VAR4', 'VAR5', 'VAR6',\n",
       "       'VAR7', 'Attrition_rate'],\n",
       "      dtype='object')"
      ]
     },
     "execution_count": 2,
     "metadata": {},
     "output_type": "execute_result"
    }
   ],
   "source": [
    "train.columns"
   ]
  },
  {
   "cell_type": "code",
   "execution_count": 10,
   "metadata": {},
   "outputs": [],
   "source": [
    "from sklearn.linear_model import LinearRegression\n",
    "lr=LinearRegression()\n",
    "lr.fit(x,y)\n",
    "r=lr.predict(xt)\n"
   ]
  },
  {
   "cell_type": "code",
   "execution_count": null,
   "metadata": {},
   "outputs": [],
   "source": [
    "                         VAR7  Attrition_rate  \n",
    "Age                   0.008746       -0.015498  \n",
    "Education_Level       0.012909       -0.008143  \n",
    "Time_of_service       0.007034       -0.016447  \n",
    "Time_since_promotion  0.005173        0.013880  \n",
    "growth_rate          -0.017993        0.014247  \n",
    "Travel_Rate          -0.006271       -0.012608  \n",
    "Post_Level           -0.003397        0.016402  \n",
    "Pay_Scale             0.002381       -0.015236  \n",
    "Work_Life_balance     0.024534        0.020746  \n",
    "VAR1                  0.009355       -0.008073  1\n",
    "VAR2                  0.003003       -0.023991  2\n",
    "VAR3                  0.008390        0.001245  3\n",
    "VAR4                 -0.018423       -0.013120  4\n",
    "VAR5                  0.009436       -0.004770  5\n",
    "VAR6                  0.011908       -0.003130  6\n",
    "VAR7                  1.000000       -0.015299  7\n",
    "Attrition_rate       -0.015299        1.000000  "
   ]
  },
  {
   "cell_type": "code",
   "execution_count": 218,
   "metadata": {},
   "outputs": [],
   "source": [
    "x1=train.fillna(train.mean())\n",
    "x2=x1.drop(['Employee_ID', 'Gender',  'Education_Level',\n",
    "       'Relationship_Status', 'Hometown', 'Unit', 'Decision_skill_possess','Travel_Rate','Time_of_service',\n",
    "         'Compensation_and_Benefits','VAR2','VAR6', 'VAR5' ,'VAR1' ,\n",
    "        'Attrition_rate'],axis=1)\n",
    "y2=train.Attrition_rate\n",
    "\n",
    "xt1=test.fillna(test.mean())\n",
    "xt2=xt1.drop(['Employee_ID', 'Gender',  'Education_Level',\n",
    "       'Relationship_Status', 'Hometown', 'Unit', 'Decision_skill_possess','Travel_Rate','VAR2','Time_of_service',\n",
    "              'VAR6','VAR5','VAR1',\n",
    "              'Compensation_and_Benefits'],axis=1)"
   ]
  },
  {
   "cell_type": "code",
   "execution_count": 219,
   "metadata": {},
   "outputs": [],
   "source": [
    "from sklearn.linear_model import LinearRegression\n",
    "lr=LinearRegression()\n",
    "lr.fit(x2,y2)\n",
    "r=lr.predict(xt2)"
   ]
  },
  {
   "cell_type": "code",
   "execution_count": 220,
   "metadata": {},
   "outputs": [
    {
     "data": {
      "text/plain": [
       "((7000, 9), (7000,))"
      ]
     },
     "execution_count": 220,
     "metadata": {},
     "output_type": "execute_result"
    }
   ],
   "source": [
    "x2.shape,y2.shape"
   ]
  },
  {
   "cell_type": "code",
   "execution_count": 221,
   "metadata": {},
   "outputs": [
    {
     "data": {
      "text/plain": [
       "array([0.19353634, 0.19160713, 0.17231751, ..., 0.17804651, 0.17644028,\n",
       "       0.19103212])"
      ]
     },
     "execution_count": 221,
     "metadata": {},
     "output_type": "execute_result"
    }
   ],
   "source": [
    "r"
   ]
  },
  {
   "cell_type": "code",
   "execution_count": 161,
   "metadata": {},
   "outputs": [],
   "source": [
    "\n",
    "my_submission= pd.DataFrame({ 'Attrition_rate':r})\n",
    "# you could use any filename. We choose submission here\n",
    "my_submission.to_csv('sub13.csv', index=False)"
   ]
  },
  {
   "cell_type": "code",
   "execution_count": null,
   "metadata": {},
   "outputs": [],
   "source": []
  },
  {
   "cell_type": "code",
   "execution_count": null,
   "metadata": {},
   "outputs": [],
   "source": []
  },
  {
   "cell_type": "code",
   "execution_count": null,
   "metadata": {},
   "outputs": [],
   "source": []
  },
  {
   "cell_type": "code",
   "execution_count": null,
   "metadata": {},
   "outputs": [],
   "source": []
  },
  {
   "cell_type": "code",
   "execution_count": null,
   "metadata": {},
   "outputs": [],
   "source": []
  }
 ],
 "metadata": {
  "kernelspec": {
   "display_name": "Python 3",
   "language": "python",
   "name": "python3"
  },
  "language_info": {
   "codemirror_mode": {
    "name": "ipython",
    "version": 3
   },
   "file_extension": ".py",
   "mimetype": "text/x-python",
   "name": "python",
   "nbconvert_exporter": "python",
   "pygments_lexer": "ipython3",
   "version": "3.7.4"
  }
 },
 "nbformat": 4,
 "nbformat_minor": 2
}
